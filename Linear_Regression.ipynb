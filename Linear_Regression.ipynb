{
  "nbformat": 4,
  "nbformat_minor": 0,
  "metadata": {
    "kernelspec": {
      "display_name": "Python 3",
      "language": "python",
      "name": "python3"
    },
    "language_info": {
      "codemirror_mode": {
        "name": "ipython",
        "version": 3
      },
      "file_extension": ".py",
      "mimetype": "text/x-python",
      "name": "python",
      "nbconvert_exporter": "python",
      "pygments_lexer": "ipython3",
      "version": "3.7.4"
    },
    "colab": {
      "name": "Linear Regression.ipynb",
      "provenance": [],
      "collapsed_sections": [],
      "include_colab_link": true
    }
  },
  "cells": [
    {
      "cell_type": "markdown",
      "metadata": {
        "id": "view-in-github",
        "colab_type": "text"
      },
      "source": [
        "<a href=\"https://colab.research.google.com/github/bhargav-joshi/DataWareHousing-Mining/blob/main/Linear_Regression.ipynb\" target=\"_parent\"><img src=\"https://colab.research.google.com/assets/colab-badge.svg\" alt=\"Open In Colab\"/></a>"
      ]
    },
    {
      "cell_type": "code",
      "metadata": {
        "id": "lkQCOd1YZ9El"
      },
      "source": [
        "import numpy as np\n",
        "import pandas as pd\n",
        "import matplotlib.pyplot as plt"
      ],
      "execution_count": 1,
      "outputs": []
    },
    {
      "cell_type": "code",
      "metadata": {
        "id": "WJd1imhuZ9Eq"
      },
      "source": [
        "X_train = pd.read_csv(\"https://raw.githubusercontent.com/bhargav-joshi/DataWareHousing-Mining/main/Linear%20Regression/Linear_X_Train.csv\")\n",
        "y_train = pd.read_csv(\"https://raw.githubusercontent.com/bhargav-joshi/DataWareHousing-Mining/main/Linear%20Regression/Linear_Y_Train.csv\")"
      ],
      "execution_count": 3,
      "outputs": []
    },
    {
      "cell_type": "code",
      "metadata": {
        "id": "1sqJu1GfZ9Er"
      },
      "source": [
        "X_train = X_train.values\n",
        "y_train = y_train.values"
      ],
      "execution_count": 4,
      "outputs": []
    },
    {
      "cell_type": "code",
      "metadata": {
        "colab": {
          "base_uri": "https://localhost:8080/",
          "height": 278
        },
        "id": "1BkVXnxwZ9Er",
        "outputId": "c2e2249f-35b6-4161-b292-cc0b6ae03482"
      },
      "source": [
        "plt.scatter(X_train, y_train, color='orange')\n",
        "plt.xlabel(\"hardwork\")\n",
        "plt.ylabel(\"marks\")\n",
        "plt.show()"
      ],
      "execution_count": 5,
      "outputs": [
        {
          "output_type": "display_data",
          "data": {
            "image/png": "[encoded data removed]",
            "text/plain": [
              "<Figure size 432x288 with 1 Axes>"
            ]
          },
          "metadata": {
            "tags": [],
            "needs_background": "light"
          }
        }
      ]
    },
    {
      "cell_type": "code",
      "metadata": {
        "colab": {
          "base_uri": "https://localhost:8080/"
        },
        "id": "68MoKnErZ9Es",
        "outputId": "cfa33dd1-9520-4eee-dc6a-48934732efac"
      },
      "source": [
        "X_train.shape"
      ],
      "execution_count": 6,
      "outputs": [
        {
          "output_type": "execute_result",
          "data": {
            "text/plain": [
              "(3750, 1)"
            ]
          },
          "metadata": {
            "tags": []
          },
          "execution_count": 6
        }
      ]
    },
    {
      "cell_type": "code",
      "metadata": {
        "colab": {
          "base_uri": "https://localhost:8080/"
        },
        "id": "JihdIrOhZ9Es",
        "outputId": "aa84a78c-d1b7-4d99-ffc9-fa7c5a05a65f"
      },
      "source": [
        "y_train.shape"
      ],
      "execution_count": 7,
      "outputs": [
        {
          "output_type": "execute_result",
          "data": {
            "text/plain": [
              "(3750, 1)"
            ]
          },
          "metadata": {
            "tags": []
          },
          "execution_count": 7
        }
      ]
    },
    {
      "cell_type": "markdown",
      "metadata": {
        "id": "K1frIGtoZ9Et"
      },
      "source": [
        "### Preprocess - Col. Standaridzation\n",
        " - makes G.D works faster (converge)"
      ]
    },
    {
      "cell_type": "code",
      "metadata": {
        "id": "qMA4XlaNZ9Et"
      },
      "source": [
        "mu = X_train.mean()\n",
        "sig = X_train.std()"
      ],
      "execution_count": 8,
      "outputs": []
    },
    {
      "cell_type": "code",
      "metadata": {
        "id": "G633aW1rZ9Et"
      },
      "source": [
        "X_train = (X_train - mu)/ sig"
      ],
      "execution_count": 9,
      "outputs": []
    },
    {
      "cell_type": "markdown",
      "metadata": {
        "id": "GCILhOi1Z9Eu"
      },
      "source": [
        "# Linear Regression"
      ]
    },
    {
      "cell_type": "code",
      "metadata": {
        "id": "Ab_j1JEpZ9Eu"
      },
      "source": [
        "def hypothesis(x, theta):\n",
        "    \"\"\"\n",
        "    theta : np array (2,1)\n",
        "    x : scaler \n",
        "    \n",
        "    return : prediction given input(x)\n",
        "    \"\"\"\n",
        "    return theta[0] + theta[1]*x\n",
        "\n",
        "def error(X, Y, theta):\n",
        "    \"\"\"\n",
        "    X - (3750, 1) \n",
        "    Y - (3750, 1) \n",
        "    theta - (2,1)\n",
        "    \n",
        "    return : total error for any hypothesis\n",
        "    \"\"\"\n",
        "    \n",
        "    m = X.shape[0]\n",
        "    total_err = 0.0\n",
        "    \n",
        "    for i in range(m):\n",
        "        yhat_i = hypothesis(X[i], theta)\n",
        "        yi = Y[i]\n",
        "        total_err += (yhat_i - yi)**2\n",
        "    \n",
        "    return total_err/m\n",
        "\n",
        "def gradient(X, Y, theta):\n",
        "    \"\"\"\n",
        "    X - (3750, 1) \n",
        "    Y - (3750, 1) \n",
        "    theta - (2,1)\n",
        "    \n",
        "    return : np array gradient (2,1)\n",
        "    \"\"\"\n",
        "    m  = X.shape[0]\n",
        "    \n",
        "    grad = np.zeros(2)\n",
        "    \n",
        "    for i in range(m):\n",
        "        yhat_i = hypothesis(X[i], theta)\n",
        "        yi = Y[i]\n",
        "        grad[0] += (yhat_i - yi)\n",
        "        grad[1] += (yhat_i - yi)*X[i]\n",
        "        \n",
        "    return grad/m\n",
        "\n",
        "def gradient_descent(X, Y, lr =0.1, max_itr = 100):\n",
        "    \"\"\"\n",
        "    parameters: \n",
        "        X - (3750, 1) \n",
        "        Y - (3750, 1) \n",
        "        lr - learning rate\n",
        "        max_itr  - maximum iteration\n",
        "    \n",
        "    ----------------------------------\n",
        "    \n",
        "    return : \n",
        "        theta vector (2,1)\n",
        "        error_list  \n",
        "    \"\"\"\n",
        "    \n",
        "    \n",
        "    theta = np.zeros(2,)\n",
        "    \n",
        "    error_list = []\n",
        "    \n",
        "    for i in range(max_itr):\n",
        "        \n",
        "        err = error(X, Y, theta)\n",
        "        error_list.append(err[0])\n",
        "        \n",
        "        grad = gradient(X, Y, theta)\n",
        "        \n",
        "        # Updation Rule\n",
        "        theta[0]  = theta[0] - lr*grad[0]\n",
        "        theta[1] = theta[1]  - lr*grad[1]\n",
        "        \n",
        "    return (theta, error_list)"
      ],
      "execution_count": 10,
      "outputs": []
    },
    {
      "cell_type": "code",
      "metadata": {
        "id": "EPoPXEd2Z9Eu"
      },
      "source": [
        "(opt_theta, error_list) = gradient_descent(X_train, y_train)"
      ],
      "execution_count": 11,
      "outputs": []
    },
    {
      "cell_type": "code",
      "metadata": {
        "colab": {
          "base_uri": "https://localhost:8080/"
        },
        "id": "pPfVWy8HZ9Eu",
        "outputId": "dec6b3f0-fc31-46a7-a45b-64cbdf3c21ca"
      },
      "source": [
        "error_list[-5:]"
      ],
      "execution_count": 12,
      "outputs": [
        {
          "output_type": "execute_result",
          "data": {
            "text/plain": [
              "[190.95559229260724,\n",
              " 190.95558983779603,\n",
              " 190.95558784939806,\n",
              " 190.95558623879643,\n",
              " 190.95558493420947]"
            ]
          },
          "metadata": {
            "tags": []
          },
          "execution_count": 12
        }
      ]
    },
    {
      "cell_type": "code",
      "metadata": {
        "colab": {
          "base_uri": "https://localhost:8080/"
        },
        "id": "sQ08A7vrZ9Ev",
        "outputId": "401be7ee-9537-4357-c5be-e68bf17a7e57"
      },
      "source": [
        "opt_theta"
      ],
      "execution_count": 13,
      "outputs": [
        {
          "output_type": "execute_result",
          "data": {
            "text/plain": [
              "array([ 0.6838508 , 79.90361453])"
            ]
          },
          "metadata": {
            "tags": []
          },
          "execution_count": 13
        }
      ]
    },
    {
      "cell_type": "code",
      "metadata": {
        "colab": {
          "base_uri": "https://localhost:8080/",
          "height": 296
        },
        "id": "q1v92CClZ9Ev",
        "outputId": "0e6dec26-41fd-47b8-be60-3415d8adbef6"
      },
      "source": [
        "plt.plot(error_list)\n",
        "plt.xlabel(\"iterations\")\n",
        "plt.ylabel(\"error\")"
      ],
      "execution_count": 14,
      "outputs": [
        {
          "output_type": "execute_result",
          "data": {
            "text/plain": [
              "Text(0, 0.5, 'error')"
            ]
          },
          "metadata": {
            "tags": []
          },
          "execution_count": 14
        },
        {
          "output_type": "display_data",
          "data": {
            "image/png": "[encoded data removed]",
            "text/plain": [
              "<Figure size 432x288 with 1 Axes>"
            ]
          },
          "metadata": {
            "tags": [],
            "needs_background": "light"
          }
        }
      ]
    },
    {
      "cell_type": "code",
      "metadata": {
        "colab": {
          "base_uri": "https://localhost:8080/"
        },
        "id": "_1hbsqexZ9Ev",
        "outputId": "49433fff-0694-4ee4-b0fe-8537333702d0"
      },
      "source": [
        "X_train"
      ],
      "execution_count": 15,
      "outputs": [
        {
          "output_type": "execute_result",
          "data": {
            "text/plain": [
              "array([[-0.25352061],\n",
              "       [-0.55541377],\n",
              "       [ 1.07380656],\n",
              "       ...,\n",
              "       [-0.26950343],\n",
              "       [ 1.72730762],\n",
              "       [-0.4575866 ]])"
            ]
          },
          "metadata": {
            "tags": []
          },
          "execution_count": 15
        }
      ]
    },
    {
      "cell_type": "code",
      "metadata": {
        "scrolled": true,
        "colab": {
          "base_uri": "https://localhost:8080/",
          "height": 265
        },
        "id": "eQC4q1a7Z9Ew",
        "outputId": "b2996bc1-292b-4121-a500-f1f0db9100e1"
      },
      "source": [
        "plt.scatter(X_train, y_train)\n",
        "plt.plot(X_train,hypothesis(X_train, opt_theta), color='orange', label=\"Hypothesis\")\n",
        "plt.legend()\n",
        "plt.show()"
      ],
      "execution_count": 16,
      "outputs": [
        {
          "output_type": "display_data",
          "data": {
            "image/png": "[encoded data removed]",
            "text/plain": [
              "<Figure size 432x288 with 1 Axes>"
            ]
          },
          "metadata": {
            "tags": [],
            "needs_background": "light"
          }
        }
      ]
    }
  ]
}